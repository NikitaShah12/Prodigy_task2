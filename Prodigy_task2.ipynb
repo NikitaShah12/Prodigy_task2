{
 "cells": [
  {
   "cell_type": "markdown",
   "id": "6277ab47",
   "metadata": {},
   "source": [
    "# ANALYSIS OF DIAMOND DATASET"
   ]
  },
  {
   "cell_type": "markdown",
   "id": "cdf1a916",
   "metadata": {},
   "source": [
    "This analysis of data is done by - Nikita V Shah"
   ]
  },
  {
   "cell_type": "markdown",
   "id": "21cec5ad",
   "metadata": {},
   "source": [
    "The diamond dataset is selected from kaggle.com"
   ]
  },
  {
   "cell_type": "markdown",
   "id": "7478482a",
   "metadata": {},
   "source": [
    "The dataset consists of the following columns"
   ]
  },
  {
   "cell_type": "markdown",
   "id": "12074ef2",
   "metadata": {},
   "source": [
    "Id - Diamond identification number provided by Brillant Earth"
   ]
  },
  {
   "cell_type": "markdown",
   "id": "057c0a12",
   "metadata": {},
   "source": [
    "url - URL for diamond details page"
   ]
  },
  {
   "cell_type": "markdown",
   "id": "9d84c9bd",
   "metadata": {},
   "source": [
    "shape - External geometric appearance of a diamond"
   ]
  },
  {
   "cell_type": "markdown",
   "id": "982d0ff6",
   "metadata": {},
   "source": [
    "price - Price in U.S. dollars"
   ]
  },
  {
   "cell_type": "markdown",
   "id": "c1efecbe",
   "metadata": {},
   "source": [
    "carat - Unit of measurement used to describe the weight of a diamond"
   ]
  },
  {
   "cell_type": "markdown",
   "id": "ad65e41c",
   "metadata": {},
   "source": [
    "cut - Facets, symmetry, and reflective qualities of a diamond"
   ]
  },
  {
   "cell_type": "markdown",
   "id": "745ff0f1",
   "metadata": {},
   "source": [
    "color - Natural color or lacl of color visible within a diamond, based on the GIA grade scale"
   ]
  },
  {
   "cell_type": "markdown",
   "id": "7b136662",
   "metadata": {},
   "source": [
    "clarity -Visibility of natural microscopic inclusions and imperfections within a diamond"
   ]
  },
  {
   "cell_type": "markdown",
   "id": "8aa9fba0",
   "metadata": {},
   "source": [
    "report - Diamond certificate or grading report provided by an independent gemology lab"
   ]
  },
  {
   "cell_type": "markdown",
   "id": "ad690056",
   "metadata": {},
   "source": [
    "type - Natural or lab created diamonds"
   ]
  },
  {
   "cell_type": "markdown",
   "id": "c3cda598",
   "metadata": {},
   "source": [
    "date_fetched - Date the data was fetched"
   ]
  },
  {
   "cell_type": "markdown",
   "id": "f93080db",
   "metadata": {},
   "source": [
    "# importing all required libraries"
   ]
  },
  {
   "cell_type": "code",
   "execution_count": 1,
   "id": "2543c3a2",
   "metadata": {},
   "outputs": [],
   "source": [
    "import pandas as pd\n",
    "import numpy as np\n",
    "from sklearn.model_selection import train_test_split\n",
    "from sklearn.linear_model import LinearRegression\n",
    "import datetime as dt\n",
    "import matplotlib.pyplot as plt\n",
    "import seaborn as sns\n",
    "%matplotlib inline\n",
    "sns.set_style('darkgrid')"
   ]
  },
  {
   "cell_type": "code",
   "execution_count": 2,
   "id": "0c2e65b4",
   "metadata": {},
   "outputs": [],
   "source": [
    "data=pd.read_csv(\"C:/Users/nikis/Downloads/diamonds_dataset.csv/diamonds_dataset.csv\")"
   ]
  },
  {
   "cell_type": "code",
   "execution_count": 3,
   "id": "e61fa98e",
   "metadata": {},
   "outputs": [
    {
     "data": {
      "text/html": [
       "<div>\n",
       "<style scoped>\n",
       "    .dataframe tbody tr th:only-of-type {\n",
       "        vertical-align: middle;\n",
       "    }\n",
       "\n",
       "    .dataframe tbody tr th {\n",
       "        vertical-align: top;\n",
       "    }\n",
       "\n",
       "    .dataframe thead th {\n",
       "        text-align: right;\n",
       "    }\n",
       "</style>\n",
       "<table border=\"1\" class=\"dataframe\">\n",
       "  <thead>\n",
       "    <tr style=\"text-align: right;\">\n",
       "      <th></th>\n",
       "      <th>id</th>\n",
       "      <th>url</th>\n",
       "      <th>shape</th>\n",
       "      <th>price</th>\n",
       "      <th>carat</th>\n",
       "      <th>cut</th>\n",
       "      <th>color</th>\n",
       "      <th>clarity</th>\n",
       "      <th>report</th>\n",
       "      <th>type</th>\n",
       "      <th>date_fetched</th>\n",
       "    </tr>\n",
       "  </thead>\n",
       "  <tbody>\n",
       "    <tr>\n",
       "      <th>0</th>\n",
       "      <td>10086429</td>\n",
       "      <td>https://www.brilliantearth.com//loose-diamonds...</td>\n",
       "      <td>Round</td>\n",
       "      <td>400</td>\n",
       "      <td>0.30</td>\n",
       "      <td>Very Good</td>\n",
       "      <td>J</td>\n",
       "      <td>SI2</td>\n",
       "      <td>GIA</td>\n",
       "      <td>natural</td>\n",
       "      <td>2020-11-29 12-26 PM</td>\n",
       "    </tr>\n",
       "    <tr>\n",
       "      <th>1</th>\n",
       "      <td>10016334</td>\n",
       "      <td>https://www.brilliantearth.com//loose-diamonds...</td>\n",
       "      <td>Emerald</td>\n",
       "      <td>400</td>\n",
       "      <td>0.31</td>\n",
       "      <td>Ideal</td>\n",
       "      <td>I</td>\n",
       "      <td>SI1</td>\n",
       "      <td>GIA</td>\n",
       "      <td>natural</td>\n",
       "      <td>2020-11-29 12-26 PM</td>\n",
       "    </tr>\n",
       "    <tr>\n",
       "      <th>2</th>\n",
       "      <td>9947216</td>\n",
       "      <td>https://www.brilliantearth.com//loose-diamonds...</td>\n",
       "      <td>Emerald</td>\n",
       "      <td>400</td>\n",
       "      <td>0.30</td>\n",
       "      <td>Ideal</td>\n",
       "      <td>I</td>\n",
       "      <td>VS2</td>\n",
       "      <td>GIA</td>\n",
       "      <td>natural</td>\n",
       "      <td>2020-11-29 12-26 PM</td>\n",
       "    </tr>\n",
       "    <tr>\n",
       "      <th>3</th>\n",
       "      <td>10083437</td>\n",
       "      <td>https://www.brilliantearth.com//loose-diamonds...</td>\n",
       "      <td>Round</td>\n",
       "      <td>400</td>\n",
       "      <td>0.30</td>\n",
       "      <td>Ideal</td>\n",
       "      <td>I</td>\n",
       "      <td>SI2</td>\n",
       "      <td>GIA</td>\n",
       "      <td>natural</td>\n",
       "      <td>2020-11-29 12-26 PM</td>\n",
       "    </tr>\n",
       "    <tr>\n",
       "      <th>4</th>\n",
       "      <td>9946136</td>\n",
       "      <td>https://www.brilliantearth.com//loose-diamonds...</td>\n",
       "      <td>Emerald</td>\n",
       "      <td>400</td>\n",
       "      <td>0.30</td>\n",
       "      <td>Ideal</td>\n",
       "      <td>I</td>\n",
       "      <td>SI1</td>\n",
       "      <td>GIA</td>\n",
       "      <td>natural</td>\n",
       "      <td>2020-11-29 12-26 PM</td>\n",
       "    </tr>\n",
       "  </tbody>\n",
       "</table>\n",
       "</div>"
      ],
      "text/plain": [
       "         id                                                url    shape  \\\n",
       "0  10086429  https://www.brilliantearth.com//loose-diamonds...    Round   \n",
       "1  10016334  https://www.brilliantearth.com//loose-diamonds...  Emerald   \n",
       "2   9947216  https://www.brilliantearth.com//loose-diamonds...  Emerald   \n",
       "3  10083437  https://www.brilliantearth.com//loose-diamonds...    Round   \n",
       "4   9946136  https://www.brilliantearth.com//loose-diamonds...  Emerald   \n",
       "\n",
       "   price  carat        cut color clarity report     type         date_fetched  \n",
       "0    400   0.30  Very Good     J     SI2    GIA  natural  2020-11-29 12-26 PM  \n",
       "1    400   0.31      Ideal     I     SI1    GIA  natural  2020-11-29 12-26 PM  \n",
       "2    400   0.30      Ideal     I     VS2    GIA  natural  2020-11-29 12-26 PM  \n",
       "3    400   0.30      Ideal     I     SI2    GIA  natural  2020-11-29 12-26 PM  \n",
       "4    400   0.30      Ideal     I     SI1    GIA  natural  2020-11-29 12-26 PM  "
      ]
     },
     "execution_count": 3,
     "metadata": {},
     "output_type": "execute_result"
    }
   ],
   "source": [
    "data.head()"
   ]
  },
  {
   "cell_type": "markdown",
   "id": "98954890",
   "metadata": {},
   "source": [
    "# DATA CLEANING"
   ]
  },
  {
   "cell_type": "markdown",
   "id": "62f69a29",
   "metadata": {},
   "source": [
    "# Determining the shape of the data"
   ]
  },
  {
   "cell_type": "code",
   "execution_count": 4,
   "id": "f4b72145",
   "metadata": {},
   "outputs": [
    {
     "data": {
      "text/plain": [
       "Index(['id', 'url', 'shape', 'price', 'carat', 'cut', 'color', 'clarity',\n",
       "       'report', 'type', 'date_fetched'],\n",
       "      dtype='object')"
      ]
     },
     "execution_count": 4,
     "metadata": {},
     "output_type": "execute_result"
    }
   ],
   "source": [
    "data.columns"
   ]
  },
  {
   "cell_type": "markdown",
   "id": "ea9f3038",
   "metadata": {},
   "source": [
    "# Droping the unecessary columns from the dataset for better analysis. we will drop the 'url' volumn from the data"
   ]
  },
  {
   "cell_type": "code",
   "execution_count": 5,
   "id": "b895a5ae",
   "metadata": {},
   "outputs": [],
   "source": [
    "data.drop(\"url\",axis=1,inplace=True)"
   ]
  },
  {
   "cell_type": "code",
   "execution_count": 6,
   "id": "05f60817",
   "metadata": {},
   "outputs": [
    {
     "data": {
      "text/plain": [
       "Index(['id', 'shape', 'price', 'carat', 'cut', 'color', 'clarity', 'report',\n",
       "       'type', 'date_fetched'],\n",
       "      dtype='object')"
      ]
     },
     "execution_count": 6,
     "metadata": {},
     "output_type": "execute_result"
    }
   ],
   "source": [
    "data.columns"
   ]
  },
  {
   "cell_type": "markdown",
   "id": "02f0bb12",
   "metadata": {},
   "source": [
    "# checking the datatype of the columns in the data"
   ]
  },
  {
   "cell_type": "code",
   "execution_count": 7,
   "id": "b9278740",
   "metadata": {},
   "outputs": [
    {
     "data": {
      "text/plain": [
       "id                int64\n",
       "shape            object\n",
       "price             int64\n",
       "carat           float64\n",
       "cut              object\n",
       "color            object\n",
       "clarity          object\n",
       "report           object\n",
       "type             object\n",
       "date_fetched     object\n",
       "dtype: object"
      ]
     },
     "execution_count": 7,
     "metadata": {},
     "output_type": "execute_result"
    }
   ],
   "source": [
    "data.dtypes"
   ]
  },
  {
   "cell_type": "markdown",
   "id": "60b1541e",
   "metadata": {},
   "source": [
    "# Converting the date_fetched column which is in object format into date format"
   ]
  },
  {
   "cell_type": "code",
   "execution_count": 8,
   "id": "a937c54b",
   "metadata": {
    "scrolled": true
   },
   "outputs": [],
   "source": [
    "data['price']=data['price']*81.993"
   ]
  },
  {
   "cell_type": "code",
   "execution_count": 9,
   "id": "ca00f955",
   "metadata": {},
   "outputs": [
    {
     "data": {
      "text/html": [
       "<div>\n",
       "<style scoped>\n",
       "    .dataframe tbody tr th:only-of-type {\n",
       "        vertical-align: middle;\n",
       "    }\n",
       "\n",
       "    .dataframe tbody tr th {\n",
       "        vertical-align: top;\n",
       "    }\n",
       "\n",
       "    .dataframe thead th {\n",
       "        text-align: right;\n",
       "    }\n",
       "</style>\n",
       "<table border=\"1\" class=\"dataframe\">\n",
       "  <thead>\n",
       "    <tr style=\"text-align: right;\">\n",
       "      <th></th>\n",
       "      <th>id</th>\n",
       "      <th>shape</th>\n",
       "      <th>price</th>\n",
       "      <th>carat</th>\n",
       "      <th>cut</th>\n",
       "      <th>color</th>\n",
       "      <th>clarity</th>\n",
       "      <th>report</th>\n",
       "      <th>type</th>\n",
       "      <th>date_fetched</th>\n",
       "    </tr>\n",
       "  </thead>\n",
       "  <tbody>\n",
       "    <tr>\n",
       "      <th>0</th>\n",
       "      <td>10086429</td>\n",
       "      <td>Round</td>\n",
       "      <td>32797.2</td>\n",
       "      <td>0.30</td>\n",
       "      <td>Very Good</td>\n",
       "      <td>J</td>\n",
       "      <td>SI2</td>\n",
       "      <td>GIA</td>\n",
       "      <td>natural</td>\n",
       "      <td>2020-11-29 12-26 PM</td>\n",
       "    </tr>\n",
       "    <tr>\n",
       "      <th>1</th>\n",
       "      <td>10016334</td>\n",
       "      <td>Emerald</td>\n",
       "      <td>32797.2</td>\n",
       "      <td>0.31</td>\n",
       "      <td>Ideal</td>\n",
       "      <td>I</td>\n",
       "      <td>SI1</td>\n",
       "      <td>GIA</td>\n",
       "      <td>natural</td>\n",
       "      <td>2020-11-29 12-26 PM</td>\n",
       "    </tr>\n",
       "    <tr>\n",
       "      <th>2</th>\n",
       "      <td>9947216</td>\n",
       "      <td>Emerald</td>\n",
       "      <td>32797.2</td>\n",
       "      <td>0.30</td>\n",
       "      <td>Ideal</td>\n",
       "      <td>I</td>\n",
       "      <td>VS2</td>\n",
       "      <td>GIA</td>\n",
       "      <td>natural</td>\n",
       "      <td>2020-11-29 12-26 PM</td>\n",
       "    </tr>\n",
       "    <tr>\n",
       "      <th>3</th>\n",
       "      <td>10083437</td>\n",
       "      <td>Round</td>\n",
       "      <td>32797.2</td>\n",
       "      <td>0.30</td>\n",
       "      <td>Ideal</td>\n",
       "      <td>I</td>\n",
       "      <td>SI2</td>\n",
       "      <td>GIA</td>\n",
       "      <td>natural</td>\n",
       "      <td>2020-11-29 12-26 PM</td>\n",
       "    </tr>\n",
       "    <tr>\n",
       "      <th>4</th>\n",
       "      <td>9946136</td>\n",
       "      <td>Emerald</td>\n",
       "      <td>32797.2</td>\n",
       "      <td>0.30</td>\n",
       "      <td>Ideal</td>\n",
       "      <td>I</td>\n",
       "      <td>SI1</td>\n",
       "      <td>GIA</td>\n",
       "      <td>natural</td>\n",
       "      <td>2020-11-29 12-26 PM</td>\n",
       "    </tr>\n",
       "  </tbody>\n",
       "</table>\n",
       "</div>"
      ],
      "text/plain": [
       "         id    shape    price  carat        cut color clarity report     type  \\\n",
       "0  10086429    Round  32797.2   0.30  Very Good     J     SI2    GIA  natural   \n",
       "1  10016334  Emerald  32797.2   0.31      Ideal     I     SI1    GIA  natural   \n",
       "2   9947216  Emerald  32797.2   0.30      Ideal     I     VS2    GIA  natural   \n",
       "3  10083437    Round  32797.2   0.30      Ideal     I     SI2    GIA  natural   \n",
       "4   9946136  Emerald  32797.2   0.30      Ideal     I     SI1    GIA  natural   \n",
       "\n",
       "          date_fetched  \n",
       "0  2020-11-29 12-26 PM  \n",
       "1  2020-11-29 12-26 PM  \n",
       "2  2020-11-29 12-26 PM  \n",
       "3  2020-11-29 12-26 PM  \n",
       "4  2020-11-29 12-26 PM  "
      ]
     },
     "execution_count": 9,
     "metadata": {},
     "output_type": "execute_result"
    }
   ],
   "source": [
    "data.head()"
   ]
  },
  {
   "cell_type": "markdown",
   "id": "e073ac8c",
   "metadata": {},
   "source": [
    "# renaming some columns in the data"
   ]
  },
  {
   "cell_type": "code",
   "execution_count": 10,
   "id": "27528cf0",
   "metadata": {},
   "outputs": [],
   "source": [
    "data.rename(columns={'price':'price(in inr)'},inplace=True)\n"
   ]
  },
  {
   "cell_type": "code",
   "execution_count": 11,
   "id": "50cd282c",
   "metadata": {},
   "outputs": [
    {
     "data": {
      "text/plain": [
       "Index(['id', 'shape', 'price(in inr)', 'carat', 'cut', 'color', 'clarity',\n",
       "       'report', 'type', 'date_fetched'],\n",
       "      dtype='object')"
      ]
     },
     "execution_count": 11,
     "metadata": {},
     "output_type": "execute_result"
    }
   ],
   "source": [
    "data.columns"
   ]
  },
  {
   "cell_type": "markdown",
   "id": "14997777",
   "metadata": {},
   "source": [
    "# checking the description of the data"
   ]
  },
  {
   "cell_type": "code",
   "execution_count": 12,
   "id": "62535344",
   "metadata": {},
   "outputs": [
    {
     "data": {
      "text/html": [
       "<div>\n",
       "<style scoped>\n",
       "    .dataframe tbody tr th:only-of-type {\n",
       "        vertical-align: middle;\n",
       "    }\n",
       "\n",
       "    .dataframe tbody tr th {\n",
       "        vertical-align: top;\n",
       "    }\n",
       "\n",
       "    .dataframe thead th {\n",
       "        text-align: right;\n",
       "    }\n",
       "</style>\n",
       "<table border=\"1\" class=\"dataframe\">\n",
       "  <thead>\n",
       "    <tr style=\"text-align: right;\">\n",
       "      <th></th>\n",
       "      <th>id</th>\n",
       "      <th>price(in inr)</th>\n",
       "      <th>carat</th>\n",
       "    </tr>\n",
       "  </thead>\n",
       "  <tbody>\n",
       "    <tr>\n",
       "      <th>count</th>\n",
       "      <td>1.193070e+05</td>\n",
       "      <td>1.193070e+05</td>\n",
       "      <td>119307.000000</td>\n",
       "    </tr>\n",
       "    <tr>\n",
       "      <th>mean</th>\n",
       "      <td>9.905507e+06</td>\n",
       "      <td>2.694981e+05</td>\n",
       "      <td>0.884169</td>\n",
       "    </tr>\n",
       "    <tr>\n",
       "      <th>std</th>\n",
       "      <td>2.373824e+05</td>\n",
       "      <td>7.473412e+05</td>\n",
       "      <td>0.671141</td>\n",
       "    </tr>\n",
       "    <tr>\n",
       "      <th>min</th>\n",
       "      <td>4.367730e+05</td>\n",
       "      <td>2.213811e+04</td>\n",
       "      <td>0.250000</td>\n",
       "    </tr>\n",
       "    <tr>\n",
       "      <th>25%</th>\n",
       "      <td>9.854352e+06</td>\n",
       "      <td>7.379370e+04</td>\n",
       "      <td>0.400000</td>\n",
       "    </tr>\n",
       "    <tr>\n",
       "      <th>50%</th>\n",
       "      <td>9.978096e+06</td>\n",
       "      <td>1.451276e+05</td>\n",
       "      <td>0.700000</td>\n",
       "    </tr>\n",
       "    <tr>\n",
       "      <th>75%</th>\n",
       "      <td>1.005433e+07</td>\n",
       "      <td>2.861556e+05</td>\n",
       "      <td>1.100000</td>\n",
       "    </tr>\n",
       "    <tr>\n",
       "      <th>max</th>\n",
       "      <td>1.009225e+07</td>\n",
       "      <td>1.105856e+08</td>\n",
       "      <td>15.320000</td>\n",
       "    </tr>\n",
       "  </tbody>\n",
       "</table>\n",
       "</div>"
      ],
      "text/plain": [
       "                 id  price(in inr)          carat\n",
       "count  1.193070e+05   1.193070e+05  119307.000000\n",
       "mean   9.905507e+06   2.694981e+05       0.884169\n",
       "std    2.373824e+05   7.473412e+05       0.671141\n",
       "min    4.367730e+05   2.213811e+04       0.250000\n",
       "25%    9.854352e+06   7.379370e+04       0.400000\n",
       "50%    9.978096e+06   1.451276e+05       0.700000\n",
       "75%    1.005433e+07   2.861556e+05       1.100000\n",
       "max    1.009225e+07   1.105856e+08      15.320000"
      ]
     },
     "execution_count": 12,
     "metadata": {},
     "output_type": "execute_result"
    }
   ],
   "source": [
    "data.describe()"
   ]
  },
  {
   "cell_type": "markdown",
   "id": "19b29258",
   "metadata": {},
   "source": [
    "# checking if the data contains any null values"
   ]
  },
  {
   "cell_type": "code",
   "execution_count": 13,
   "id": "4ff57948",
   "metadata": {},
   "outputs": [
    {
     "data": {
      "text/plain": [
       "id               0\n",
       "shape            0\n",
       "price(in inr)    0\n",
       "carat            0\n",
       "cut              0\n",
       "color            0\n",
       "clarity          0\n",
       "report           0\n",
       "type             0\n",
       "date_fetched     0\n",
       "dtype: int64"
      ]
     },
     "execution_count": 13,
     "metadata": {},
     "output_type": "execute_result"
    }
   ],
   "source": [
    "data.isnull().sum()"
   ]
  },
  {
   "cell_type": "markdown",
   "id": "18ea6c93",
   "metadata": {},
   "source": [
    "This indidcates that the data does not conatin any null value"
   ]
  },
  {
   "cell_type": "code",
   "execution_count": 14,
   "id": "ba5d01a6",
   "metadata": {},
   "outputs": [
    {
     "data": {
      "text/plain": [
       "0"
      ]
     },
     "execution_count": 14,
     "metadata": {},
     "output_type": "execute_result"
    }
   ],
   "source": [
    "data.duplicated().sum()"
   ]
  },
  {
   "cell_type": "markdown",
   "id": "d4352c94",
   "metadata": {},
   "source": [
    "This shows that the data does not contain any duplicated value"
   ]
  },
  {
   "cell_type": "markdown",
   "id": "26aea656",
   "metadata": {},
   "source": [
    "# creating a new column in the dataset which displays the color of the diamond in more detail"
   ]
  },
  {
   "cell_type": "code",
   "execution_count": 15,
   "id": "cc4f5038",
   "metadata": {},
   "outputs": [
    {
     "data": {
      "text/plain": [
       "array(['J', 'I', 'E', 'F', 'G', 'H', 'D'], dtype=object)"
      ]
     },
     "execution_count": 15,
     "metadata": {},
     "output_type": "execute_result"
    }
   ],
   "source": [
    "data['color'].unique()"
   ]
  },
  {
   "cell_type": "code",
   "execution_count": 16,
   "id": "3af9110b",
   "metadata": {},
   "outputs": [],
   "source": [
    "data.loc[data.color=='J','color_detail']='near colorless,slight yellow'\n",
    "data.loc[data.color=='I','color_detail']='near colorless,noticeable yellow'\n",
    "data.loc[data.color=='E','color_detail']='virtually colorless'\n",
    "data.loc[data.color=='F','color_detail']='colorless,minimal amount of color'\n",
    "data.loc[data.color=='G','color_detail']='colorless,slight trace of color when compared'\n",
    "data.loc[data.color=='H','color_detail']='colorless,slight tinge of color unless compared'\n",
    "data.loc[data.color=='D','color_detail']='colorless,rare,pure'"
   ]
  },
  {
   "cell_type": "markdown",
   "id": "3b15fd93",
   "metadata": {},
   "source": [
    "# creating a new column in the dataset which displays the clarity of the diamond in more detail"
   ]
  },
  {
   "cell_type": "code",
   "execution_count": 17,
   "id": "c26f595f",
   "metadata": {},
   "outputs": [
    {
     "data": {
      "text/plain": [
       "array(['SI2', 'SI1', 'VS2', 'VVS1', 'VS1', 'VVS2', 'IF', 'FL'],\n",
       "      dtype=object)"
      ]
     },
     "execution_count": 17,
     "metadata": {},
     "output_type": "execute_result"
    }
   ],
   "source": [
    "data['clarity'].unique()"
   ]
  },
  {
   "cell_type": "code",
   "execution_count": 18,
   "id": "28392eb8",
   "metadata": {},
   "outputs": [],
   "source": [
    "data.loc[data.clarity=='SI2','clarity_detail']='Slightly Included Flaws'\n",
    "data.loc[data.clarity=='SI1','clarity_detail']='Slightly Included Flaws'\n",
    "data.loc[data.clarity=='VS2','clarity_detail']='very Slightly Included Flaws'\n",
    "data.loc[data.clarity=='VVS1','clarity_detail']='very Slightly Included Flaws'\n",
    "data.loc[data.clarity=='VS1','clarity_detail']='very,very slightly Included Flaws'\n",
    "data.loc[data.clarity=='VVS2','clarity_detail']='very,very slightly Included Flaws'\n",
    "data.loc[data.clarity=='IF','clarity_detail']='Internally Flawless'\n",
    "data.loc[data.clarity=='FL','clarity_detail']='Flawless,rare,highly valued'"
   ]
  },
  {
   "cell_type": "code",
   "execution_count": 19,
   "id": "724610ac",
   "metadata": {},
   "outputs": [
    {
     "data": {
      "text/html": [
       "<div>\n",
       "<style scoped>\n",
       "    .dataframe tbody tr th:only-of-type {\n",
       "        vertical-align: middle;\n",
       "    }\n",
       "\n",
       "    .dataframe tbody tr th {\n",
       "        vertical-align: top;\n",
       "    }\n",
       "\n",
       "    .dataframe thead th {\n",
       "        text-align: right;\n",
       "    }\n",
       "</style>\n",
       "<table border=\"1\" class=\"dataframe\">\n",
       "  <thead>\n",
       "    <tr style=\"text-align: right;\">\n",
       "      <th></th>\n",
       "      <th>id</th>\n",
       "      <th>shape</th>\n",
       "      <th>price(in inr)</th>\n",
       "      <th>carat</th>\n",
       "      <th>cut</th>\n",
       "      <th>color</th>\n",
       "      <th>clarity</th>\n",
       "      <th>report</th>\n",
       "      <th>type</th>\n",
       "      <th>date_fetched</th>\n",
       "      <th>color_detail</th>\n",
       "      <th>clarity_detail</th>\n",
       "    </tr>\n",
       "  </thead>\n",
       "  <tbody>\n",
       "    <tr>\n",
       "      <th>0</th>\n",
       "      <td>10086429</td>\n",
       "      <td>Round</td>\n",
       "      <td>32797.2</td>\n",
       "      <td>0.30</td>\n",
       "      <td>Very Good</td>\n",
       "      <td>J</td>\n",
       "      <td>SI2</td>\n",
       "      <td>GIA</td>\n",
       "      <td>natural</td>\n",
       "      <td>2020-11-29 12-26 PM</td>\n",
       "      <td>near colorless,slight yellow</td>\n",
       "      <td>Slightly Included Flaws</td>\n",
       "    </tr>\n",
       "    <tr>\n",
       "      <th>1</th>\n",
       "      <td>10016334</td>\n",
       "      <td>Emerald</td>\n",
       "      <td>32797.2</td>\n",
       "      <td>0.31</td>\n",
       "      <td>Ideal</td>\n",
       "      <td>I</td>\n",
       "      <td>SI1</td>\n",
       "      <td>GIA</td>\n",
       "      <td>natural</td>\n",
       "      <td>2020-11-29 12-26 PM</td>\n",
       "      <td>near colorless,noticeable yellow</td>\n",
       "      <td>Slightly Included Flaws</td>\n",
       "    </tr>\n",
       "    <tr>\n",
       "      <th>2</th>\n",
       "      <td>9947216</td>\n",
       "      <td>Emerald</td>\n",
       "      <td>32797.2</td>\n",
       "      <td>0.30</td>\n",
       "      <td>Ideal</td>\n",
       "      <td>I</td>\n",
       "      <td>VS2</td>\n",
       "      <td>GIA</td>\n",
       "      <td>natural</td>\n",
       "      <td>2020-11-29 12-26 PM</td>\n",
       "      <td>near colorless,noticeable yellow</td>\n",
       "      <td>very Slightly Included Flaws</td>\n",
       "    </tr>\n",
       "    <tr>\n",
       "      <th>3</th>\n",
       "      <td>10083437</td>\n",
       "      <td>Round</td>\n",
       "      <td>32797.2</td>\n",
       "      <td>0.30</td>\n",
       "      <td>Ideal</td>\n",
       "      <td>I</td>\n",
       "      <td>SI2</td>\n",
       "      <td>GIA</td>\n",
       "      <td>natural</td>\n",
       "      <td>2020-11-29 12-26 PM</td>\n",
       "      <td>near colorless,noticeable yellow</td>\n",
       "      <td>Slightly Included Flaws</td>\n",
       "    </tr>\n",
       "    <tr>\n",
       "      <th>4</th>\n",
       "      <td>9946136</td>\n",
       "      <td>Emerald</td>\n",
       "      <td>32797.2</td>\n",
       "      <td>0.30</td>\n",
       "      <td>Ideal</td>\n",
       "      <td>I</td>\n",
       "      <td>SI1</td>\n",
       "      <td>GIA</td>\n",
       "      <td>natural</td>\n",
       "      <td>2020-11-29 12-26 PM</td>\n",
       "      <td>near colorless,noticeable yellow</td>\n",
       "      <td>Slightly Included Flaws</td>\n",
       "    </tr>\n",
       "  </tbody>\n",
       "</table>\n",
       "</div>"
      ],
      "text/plain": [
       "         id    shape  price(in inr)  carat        cut color clarity report  \\\n",
       "0  10086429    Round        32797.2   0.30  Very Good     J     SI2    GIA   \n",
       "1  10016334  Emerald        32797.2   0.31      Ideal     I     SI1    GIA   \n",
       "2   9947216  Emerald        32797.2   0.30      Ideal     I     VS2    GIA   \n",
       "3  10083437    Round        32797.2   0.30      Ideal     I     SI2    GIA   \n",
       "4   9946136  Emerald        32797.2   0.30      Ideal     I     SI1    GIA   \n",
       "\n",
       "      type         date_fetched                      color_detail  \\\n",
       "0  natural  2020-11-29 12-26 PM      near colorless,slight yellow   \n",
       "1  natural  2020-11-29 12-26 PM  near colorless,noticeable yellow   \n",
       "2  natural  2020-11-29 12-26 PM  near colorless,noticeable yellow   \n",
       "3  natural  2020-11-29 12-26 PM  near colorless,noticeable yellow   \n",
       "4  natural  2020-11-29 12-26 PM  near colorless,noticeable yellow   \n",
       "\n",
       "                 clarity_detail  \n",
       "0       Slightly Included Flaws  \n",
       "1       Slightly Included Flaws  \n",
       "2  very Slightly Included Flaws  \n",
       "3       Slightly Included Flaws  \n",
       "4       Slightly Included Flaws  "
      ]
     },
     "execution_count": 19,
     "metadata": {},
     "output_type": "execute_result"
    }
   ],
   "source": [
    "data.head()"
   ]
  },
  {
   "cell_type": "markdown",
   "id": "69714718",
   "metadata": {},
   "source": [
    "# creating a new dataframes that gives proper description of unique clarity and color of diamonds"
   ]
  },
  {
   "cell_type": "code",
   "execution_count": 20,
   "id": "38c4eaa5",
   "metadata": {},
   "outputs": [],
   "source": [
    "diamond_color=data[['color','color_detail']]"
   ]
  },
  {
   "cell_type": "code",
   "execution_count": 21,
   "id": "74291047",
   "metadata": {},
   "outputs": [
    {
     "data": {
      "text/html": [
       "<div>\n",
       "<style scoped>\n",
       "    .dataframe tbody tr th:only-of-type {\n",
       "        vertical-align: middle;\n",
       "    }\n",
       "\n",
       "    .dataframe tbody tr th {\n",
       "        vertical-align: top;\n",
       "    }\n",
       "\n",
       "    .dataframe thead th {\n",
       "        text-align: right;\n",
       "    }\n",
       "</style>\n",
       "<table border=\"1\" class=\"dataframe\">\n",
       "  <thead>\n",
       "    <tr style=\"text-align: right;\">\n",
       "      <th></th>\n",
       "      <th>color</th>\n",
       "      <th>color_detail</th>\n",
       "    </tr>\n",
       "  </thead>\n",
       "  <tbody>\n",
       "    <tr>\n",
       "      <th>0</th>\n",
       "      <td>J</td>\n",
       "      <td>near colorless,slight yellow</td>\n",
       "    </tr>\n",
       "    <tr>\n",
       "      <th>1</th>\n",
       "      <td>I</td>\n",
       "      <td>near colorless,noticeable yellow</td>\n",
       "    </tr>\n",
       "    <tr>\n",
       "      <th>5</th>\n",
       "      <td>E</td>\n",
       "      <td>virtually colorless</td>\n",
       "    </tr>\n",
       "    <tr>\n",
       "      <th>20</th>\n",
       "      <td>F</td>\n",
       "      <td>colorless,minimal amount of color</td>\n",
       "    </tr>\n",
       "    <tr>\n",
       "      <th>21</th>\n",
       "      <td>G</td>\n",
       "      <td>colorless,slight trace of color when compared</td>\n",
       "    </tr>\n",
       "    <tr>\n",
       "      <th>45</th>\n",
       "      <td>H</td>\n",
       "      <td>colorless,slight tinge of color unless compared</td>\n",
       "    </tr>\n",
       "    <tr>\n",
       "      <th>75</th>\n",
       "      <td>D</td>\n",
       "      <td>colorless,rare,pure</td>\n",
       "    </tr>\n",
       "  </tbody>\n",
       "</table>\n",
       "</div>"
      ],
      "text/plain": [
       "   color                                     color_detail\n",
       "0      J                     near colorless,slight yellow\n",
       "1      I                 near colorless,noticeable yellow\n",
       "5      E                              virtually colorless\n",
       "20     F                colorless,minimal amount of color\n",
       "21     G    colorless,slight trace of color when compared\n",
       "45     H  colorless,slight tinge of color unless compared\n",
       "75     D                              colorless,rare,pure"
      ]
     },
     "execution_count": 21,
     "metadata": {},
     "output_type": "execute_result"
    }
   ],
   "source": [
    "diamond_color.drop_duplicates()"
   ]
  },
  {
   "cell_type": "code",
   "execution_count": 22,
   "id": "683203f9",
   "metadata": {},
   "outputs": [],
   "source": [
    "diamond_clarity=data[['clarity','clarity_detail']]"
   ]
  },
  {
   "cell_type": "code",
   "execution_count": 23,
   "id": "bc4a5180",
   "metadata": {},
   "outputs": [
    {
     "data": {
      "text/html": [
       "<div>\n",
       "<style scoped>\n",
       "    .dataframe tbody tr th:only-of-type {\n",
       "        vertical-align: middle;\n",
       "    }\n",
       "\n",
       "    .dataframe tbody tr th {\n",
       "        vertical-align: top;\n",
       "    }\n",
       "\n",
       "    .dataframe thead th {\n",
       "        text-align: right;\n",
       "    }\n",
       "</style>\n",
       "<table border=\"1\" class=\"dataframe\">\n",
       "  <thead>\n",
       "    <tr style=\"text-align: right;\">\n",
       "      <th></th>\n",
       "      <th>clarity</th>\n",
       "      <th>clarity_detail</th>\n",
       "    </tr>\n",
       "  </thead>\n",
       "  <tbody>\n",
       "    <tr>\n",
       "      <th>0</th>\n",
       "      <td>SI2</td>\n",
       "      <td>Slightly Included Flaws</td>\n",
       "    </tr>\n",
       "    <tr>\n",
       "      <th>1</th>\n",
       "      <td>SI1</td>\n",
       "      <td>Slightly Included Flaws</td>\n",
       "    </tr>\n",
       "    <tr>\n",
       "      <th>2</th>\n",
       "      <td>VS2</td>\n",
       "      <td>very Slightly Included Flaws</td>\n",
       "    </tr>\n",
       "    <tr>\n",
       "      <th>9</th>\n",
       "      <td>VVS1</td>\n",
       "      <td>very Slightly Included Flaws</td>\n",
       "    </tr>\n",
       "    <tr>\n",
       "      <th>19</th>\n",
       "      <td>VS1</td>\n",
       "      <td>very,very slightly Included Flaws</td>\n",
       "    </tr>\n",
       "    <tr>\n",
       "      <th>152</th>\n",
       "      <td>VVS2</td>\n",
       "      <td>very,very slightly Included Flaws</td>\n",
       "    </tr>\n",
       "    <tr>\n",
       "      <th>310</th>\n",
       "      <td>IF</td>\n",
       "      <td>Internally Flawless</td>\n",
       "    </tr>\n",
       "    <tr>\n",
       "      <th>1890</th>\n",
       "      <td>FL</td>\n",
       "      <td>Flawless,rare,highly valued</td>\n",
       "    </tr>\n",
       "  </tbody>\n",
       "</table>\n",
       "</div>"
      ],
      "text/plain": [
       "     clarity                     clarity_detail\n",
       "0        SI2            Slightly Included Flaws\n",
       "1        SI1            Slightly Included Flaws\n",
       "2        VS2       very Slightly Included Flaws\n",
       "9       VVS1       very Slightly Included Flaws\n",
       "19       VS1  very,very slightly Included Flaws\n",
       "152     VVS2  very,very slightly Included Flaws\n",
       "310       IF                Internally Flawless\n",
       "1890      FL        Flawless,rare,highly valued"
      ]
     },
     "execution_count": 23,
     "metadata": {},
     "output_type": "execute_result"
    }
   ],
   "source": [
    "diamond_clarity.drop_duplicates()"
   ]
  },
  {
   "cell_type": "markdown",
   "id": "1a6c3644",
   "metadata": {},
   "source": [
    "# EXPLORATORY DATA ANALYSIS"
   ]
  },
  {
   "cell_type": "code",
   "execution_count": 24,
   "id": "6c837e66",
   "metadata": {},
   "outputs": [
    {
     "data": {
      "text/plain": [
       "Index(['id', 'shape', 'price(in inr)', 'carat', 'cut', 'color', 'clarity',\n",
       "       'report', 'type', 'date_fetched', 'color_detail', 'clarity_detail'],\n",
       "      dtype='object')"
      ]
     },
     "execution_count": 24,
     "metadata": {},
     "output_type": "execute_result"
    }
   ],
   "source": [
    "data.columns"
   ]
  },
  {
   "cell_type": "code",
   "execution_count": 25,
   "id": "47e83c65",
   "metadata": {},
   "outputs": [
    {
     "data": {
      "image/png": "[encoded data removed]",
      "text/plain": [
       "<Figure size 1000x1200 with 1 Axes>"
      ]
     },
     "metadata": {},
     "output_type": "display_data"
    }
   ],
   "source": [
    "plt.figure(figsize=(10,12))\n",
    "ax=sns.countplot(x='shape',data=data,hue='type',palette='rocket')\n",
    "plt.title('Types of Diamonds based on shapes')\n",
    "plt.xticks(rotation=90)\n",
    "for p in ax.patches:\n",
    "    ax.text(p.get_x() + p.get_width() / 2., p.get_height(), f'{p.get_height()}', ha='center', va='bottom')"
   ]
  },
  {
   "cell_type": "markdown",
   "id": "656988af",
   "metadata": {},
   "source": [
    "from this chart , we can say that more of natural diamonds exist in round shape followed by oval and least number of natural diamonds appear in Asscher shape"
   ]
  },
  {
   "cell_type": "markdown",
   "id": "e85bd15d",
   "metadata": {},
   "source": [
    "In other way we can say that more number of laboratory diamonds occur in round shape followed by oval shape and least number of laboratory diamonds exist in heart shape"
   ]
  },
  {
   "cell_type": "markdown",
   "id": "c4930e8f",
   "metadata": {},
   "source": [
    "# creating a countplot to see the count of diamonds based on their clarity and shape"
   ]
  },
  {
   "cell_type": "code",
   "execution_count": 26,
   "id": "12e36ff5",
   "metadata": {},
   "outputs": [
    {
     "data": {
      "image/png": "[encoded data removed]",
      "text/plain": [
       "<Figure size 900x900 with 1 Axes>"
      ]
     },
     "metadata": {},
     "output_type": "display_data"
    }
   ],
   "source": [
    "plt.figure(figsize=(9,9))\n",
    "ax=sns.countplot(x='clarity',data=data,hue='type',palette='viridis')\n",
    "plt.title('Types of Diamonds based on Clarity')\n",
    "plt.xticks(rotation=90)\n",
    "for p in ax.patches:\n",
    "    ax.text(p.get_x() + p.get_width() / 2., p.get_height(), f'{p.get_height()}', ha='center', va='bottom')"
   ]
  },
  {
   "cell_type": "markdown",
   "id": "8e5bd12d",
   "metadata": {},
   "source": [
    "From this graph we can say that most of the naturally existing diamonds posses VS2 type of clarity and least posses FL type of clarity"
   ]
  },
  {
   "cell_type": "markdown",
   "id": "907dc7d2",
   "metadata": {},
   "source": [
    "In other hand we can infer that most of the laboratory created diamonds posses VS1 type of clarity and none of them posses FL type of clarity"
   ]
  },
  {
   "cell_type": "markdown",
   "id": "e5f5cdd7",
   "metadata": {},
   "source": [
    "# Creating a scatter plot to seee if there is any relation between the carat and price of the diamond"
   ]
  },
  {
   "cell_type": "code",
   "execution_count": 27,
   "id": "9be890ad",
   "metadata": {},
   "outputs": [
    {
     "data": {
      "text/plain": [
       "Text(0, 0.5, 'Price of Diamonds')"
      ]
     },
     "execution_count": 27,
     "metadata": {},
     "output_type": "execute_result"
    },
    {
     "data": {
      "image/png": "[encoded data removed]",
      "text/plain": [
       "<Figure size 800x800 with 1 Axes>"
      ]
     },
     "metadata": {},
     "output_type": "display_data"
    }
   ],
   "source": [
    "plt.figure(figsize=(8,8))\n",
    "plt.scatter(x='carat',y='price(in inr)',data=data)\n",
    "plt.title('Relational between carat and Price of Diamond')\n",
    "plt.xlabel('carat of Diamonds')\n",
    "plt.ylabel('Price of Diamonds')"
   ]
  },
  {
   "cell_type": "markdown",
   "id": "281a88e1",
   "metadata": {},
   "source": [
    "From this scatter chart we can say that with the increase in carat the price also increases but there are few exception."
   ]
  },
  {
   "cell_type": "markdown",
   "id": "68177a82",
   "metadata": {},
   "source": [
    "# Creating  a scatter plot to see if there is any relation between the cut of diamond and price of the diamond"
   ]
  },
  {
   "cell_type": "code",
   "execution_count": 28,
   "id": "4aface96",
   "metadata": {},
   "outputs": [
    {
     "data": {
      "text/plain": [
       "Text(0, 0.5, 'Price of Diamond')"
      ]
     },
     "execution_count": 28,
     "metadata": {},
     "output_type": "execute_result"
    },
    {
     "data": {
      "image/png": "[encoded data removed]",
      "text/plain": [
       "<Figure size 900x900 with 1 Axes>"
      ]
     },
     "metadata": {},
     "output_type": "display_data"
    }
   ],
   "source": [
    "plt.figure(figsize=(9,9))\n",
    "plt.scatter(x='cut',y='price(in inr)',data=data)\n",
    "plt.title('Relation between cut and Price of Diamond')\n",
    "plt.xlabel('Carat of Diamond')\n",
    "plt.ylabel('Price of Diamond')"
   ]
  },
  {
   "cell_type": "markdown",
   "id": "dd6cb59a",
   "metadata": {},
   "source": [
    "From this scatter chart we can say that super ideal cut have more price value and fair cut have less price value"
   ]
  },
  {
   "cell_type": "markdown",
   "id": "920bec4a",
   "metadata": {},
   "source": [
    "# creating a scatter plot to see if there is any relation between the color of diamond and price of the diamond"
   ]
  },
  {
   "cell_type": "code",
   "execution_count": 29,
   "id": "fee3b805",
   "metadata": {},
   "outputs": [
    {
     "data": {
      "text/plain": [
       "Text(0, 0.5, 'Price of Diamonds')"
      ]
     },
     "execution_count": 29,
     "metadata": {},
     "output_type": "execute_result"
    },
    {
     "data": {
      "image/png": "[encoded data removed]",
      "text/plain": [
       "<Figure size 1000x1000 with 1 Axes>"
      ]
     },
     "metadata": {},
     "output_type": "display_data"
    }
   ],
   "source": [
    "plt.figure(figsize=(10,10))\n",
    "plt.scatter(x='color',y='price(in inr)',data=data)\n",
    "plt.title('Relation between Color and Price of diamond')\n",
    "plt.xlabel('Color of Diamonds')\n",
    "plt.ylabel('Price of Diamonds')"
   ]
  },
  {
   "cell_type": "markdown",
   "id": "663d138b",
   "metadata": {},
   "source": [
    "Frome this scatter chart we can say that high prices are for D color diamonds(colourless,rare) and less prices are for I color diamonds(noticeable yellow)"
   ]
  },
  {
   "cell_type": "markdown",
   "id": "0b2007ca",
   "metadata": {},
   "source": [
    "# creating a countplot for the number of reports given to the diamonds by different laboratories"
   ]
  },
  {
   "cell_type": "code",
   "execution_count": 30,
   "id": "35baf9e5",
   "metadata": {},
   "outputs": [
    {
     "data": {
      "image/png": "[encoded data removed]",
      "text/plain": [
       "<Figure size 640x480 with 1 Axes>"
      ]
     },
     "metadata": {},
     "output_type": "display_data"
    }
   ],
   "source": [
    "ax=sns.countplot(x='report',data=data,hue='type')\n",
    "plt.title('Counts of reports given by different labs')\n",
    "for p in ax.patches:\n",
    "    ax.text(p.get_x() + p.get_width() / 2., p.get_height(), f'{p.get_height()}', ha='center', va='bottom')"
   ]
  },
  {
   "cell_type": "markdown",
   "id": "86ae9b85",
   "metadata": {},
   "source": [
    "From this we can say that the most of the report for natural diamonds are given by GIA(Gemological Institute of American) and most of the laboratory diamond reports are given by IGI(International Gemological Institute)"
   ]
  },
  {
   "cell_type": "markdown",
   "id": "d3e19029",
   "metadata": {},
   "source": [
    "# PREDICITION USING LINEAR MODEL"
   ]
  },
  {
   "cell_type": "markdown",
   "id": "f107f8dd",
   "metadata": {},
   "source": [
    "'type','color','cut' - Independent variable , 'price' - Dependent variable"
   ]
  },
  {
   "cell_type": "markdown",
   "id": "2c33896d",
   "metadata": {},
   "source": [
    "The columns above are in object format so i have converted it into int data type by the mapping method of python."
   ]
  },
  {
   "cell_type": "code",
   "execution_count": 31,
   "id": "5e9d48c0",
   "metadata": {},
   "outputs": [],
   "source": [
    "data['type']=data['type'].map({'natural':1, 'lab':2})"
   ]
  },
  {
   "cell_type": "code",
   "execution_count": 32,
   "id": "3d2f884f",
   "metadata": {},
   "outputs": [],
   "source": [
    "data['color']=data['color'].map({'D':1, 'E':2, 'F':3, 'G':4, 'H':5, 'I':6, 'J':7})"
   ]
  },
  {
   "cell_type": "code",
   "execution_count": 33,
   "id": "efb9df0e",
   "metadata": {},
   "outputs": [],
   "source": [
    "data['cut']=data['cut'].map({'Super Ideal':1, 'Ideal':2, 'Very Good':3, 'Good':4, 'Fair':5})"
   ]
  },
  {
   "cell_type": "code",
   "execution_count": 34,
   "id": "39b346d4",
   "metadata": {},
   "outputs": [
    {
     "data": {
      "text/plain": [
       "Index(['id', 'shape', 'price(in inr)', 'carat', 'cut', 'color', 'clarity',\n",
       "       'report', 'type', 'date_fetched', 'color_detail', 'clarity_detail'],\n",
       "      dtype='object')"
      ]
     },
     "execution_count": 34,
     "metadata": {},
     "output_type": "execute_result"
    }
   ],
   "source": [
    "data.columns"
   ]
  },
  {
   "cell_type": "code",
   "execution_count": 35,
   "id": "9b889f62",
   "metadata": {},
   "outputs": [],
   "source": [
    "x=data[['carat','cut','color']]"
   ]
  },
  {
   "cell_type": "code",
   "execution_count": 36,
   "id": "05cd40d4",
   "metadata": {},
   "outputs": [],
   "source": [
    "y=data['price(in inr)']"
   ]
  },
  {
   "cell_type": "code",
   "execution_count": 37,
   "id": "8f3a7fdc",
   "metadata": {},
   "outputs": [],
   "source": [
    "model=LinearRegression()"
   ]
  },
  {
   "cell_type": "markdown",
   "id": "46d4b87b",
   "metadata": {},
   "source": [
    "Splitting the data into training set and testing set"
   ]
  },
  {
   "cell_type": "code",
   "execution_count": 38,
   "id": "e9626aab",
   "metadata": {},
   "outputs": [],
   "source": [
    "x_train,x_test,y_train,y_test=train_test_split(x,y,test_size=0.20,random_state=42)"
   ]
  },
  {
   "cell_type": "code",
   "execution_count": 39,
   "id": "155e2dbe",
   "metadata": {},
   "outputs": [
    {
     "data": {
      "text/plain": [
       "((95445, 3), (23862, 3))"
      ]
     },
     "execution_count": 39,
     "metadata": {},
     "output_type": "execute_result"
    }
   ],
   "source": [
    "x_train.shape,x_test.shape"
   ]
  },
  {
   "cell_type": "markdown",
   "id": "e263caad",
   "metadata": {},
   "source": [
    "Training the model"
   ]
  },
  {
   "cell_type": "code",
   "execution_count": 40,
   "id": "36968c5b",
   "metadata": {},
   "outputs": [
    {
     "data": {
      "text/html": [
       "<style>#sk-container-id-1 {color: black;}#sk-container-id-1 pre{padding: 0;}#sk-container-id-1 div.sk-toggleable {background-color: white;}#sk-container-id-1 label.sk-toggleable__label {cursor: pointer;display: block;width: 100%;margin-bottom: 0;padding: 0.3em;box-sizing: border-box;text-align: center;}#sk-container-id-1 label.sk-toggleable__label-arrow:before {content: \"▸\";float: left;margin-right: 0.25em;color: #696969;}#sk-container-id-1 label.sk-toggleable__label-arrow:hover:before {color: black;}#sk-container-id-1 div.sk-estimator:hover label.sk-toggleable__label-arrow:before {color: black;}#sk-container-id-1 div.sk-toggleable__content {max-height: 0;max-width: 0;overflow: hidden;text-align: left;background-color: #f0f8ff;}#sk-container-id-1 div.sk-toggleable__content pre {margin: 0.2em;color: black;border-radius: 0.25em;background-color: #f0f8ff;}#sk-container-id-1 input.sk-toggleable__control:checked~div.sk-toggleable__content {max-height: 200px;max-width: 100%;overflow: auto;}#sk-container-id-1 input.sk-toggleable__control:checked~label.sk-toggleable__label-arrow:before {content: \"▾\";}#sk-container-id-1 div.sk-estimator input.sk-toggleable__control:checked~label.sk-toggleable__label {background-color: #d4ebff;}#sk-container-id-1 div.sk-label input.sk-toggleable__control:checked~label.sk-toggleable__label {background-color: #d4ebff;}#sk-container-id-1 input.sk-hidden--visually {border: 0;clip: rect(1px 1px 1px 1px);clip: rect(1px, 1px, 1px, 1px);height: 1px;margin: -1px;overflow: hidden;padding: 0;position: absolute;width: 1px;}#sk-container-id-1 div.sk-estimator {font-family: monospace;background-color: #f0f8ff;border: 1px dotted black;border-radius: 0.25em;box-sizing: border-box;margin-bottom: 0.5em;}#sk-container-id-1 div.sk-estimator:hover {background-color: #d4ebff;}#sk-container-id-1 div.sk-parallel-item::after {content: \"\";width: 100%;border-bottom: 1px solid gray;flex-grow: 1;}#sk-container-id-1 div.sk-label:hover label.sk-toggleable__label {background-color: #d4ebff;}#sk-container-id-1 div.sk-serial::before {content: \"\";position: absolute;border-left: 1px solid gray;box-sizing: border-box;top: 0;bottom: 0;left: 50%;z-index: 0;}#sk-container-id-1 div.sk-serial {display: flex;flex-direction: column;align-items: center;background-color: white;padding-right: 0.2em;padding-left: 0.2em;position: relative;}#sk-container-id-1 div.sk-item {position: relative;z-index: 1;}#sk-container-id-1 div.sk-parallel {display: flex;align-items: stretch;justify-content: center;background-color: white;position: relative;}#sk-container-id-1 div.sk-item::before, #sk-container-id-1 div.sk-parallel-item::before {content: \"\";position: absolute;border-left: 1px solid gray;box-sizing: border-box;top: 0;bottom: 0;left: 50%;z-index: -1;}#sk-container-id-1 div.sk-parallel-item {display: flex;flex-direction: column;z-index: 1;position: relative;background-color: white;}#sk-container-id-1 div.sk-parallel-item:first-child::after {align-self: flex-end;width: 50%;}#sk-container-id-1 div.sk-parallel-item:last-child::after {align-self: flex-start;width: 50%;}#sk-container-id-1 div.sk-parallel-item:only-child::after {width: 0;}#sk-container-id-1 div.sk-dashed-wrapped {border: 1px dashed gray;margin: 0 0.4em 0.5em 0.4em;box-sizing: border-box;padding-bottom: 0.4em;background-color: white;}#sk-container-id-1 div.sk-label label {font-family: monospace;font-weight: bold;display: inline-block;line-height: 1.2em;}#sk-container-id-1 div.sk-label-container {text-align: center;}#sk-container-id-1 div.sk-container {/* jupyter's `normalize.less` sets `[hidden] { display: none; }` but bootstrap.min.css set `[hidden] { display: none !important; }` so we also need the `!important` here to be able to override the default hidden behavior on the sphinx rendered scikit-learn.org. See: https://github.com/scikit-learn/scikit-learn/issues/21755 */display: inline-block !important;position: relative;}#sk-container-id-1 div.sk-text-repr-fallback {display: none;}</style><div id=\"sk-container-id-1\" class=\"sk-top-container\"><div class=\"sk-text-repr-fallback\"><pre>LinearRegression()</pre><b>In a Jupyter environment, please rerun this cell to show the HTML representation or trust the notebook. <br />On GitHub, the HTML representation is unable to render, please try loading this page with nbviewer.org.</b></div><div class=\"sk-container\" hidden><div class=\"sk-item\"><div class=\"sk-estimator sk-toggleable\"><input class=\"sk-toggleable__control sk-hidden--visually\" id=\"sk-estimator-id-1\" type=\"checkbox\" checked><label for=\"sk-estimator-id-1\" class=\"sk-toggleable__label sk-toggleable__label-arrow\">LinearRegression</label><div class=\"sk-toggleable__content\"><pre>LinearRegression()</pre></div></div></div></div></div>"
      ],
      "text/plain": [
       "LinearRegression()"
      ]
     },
     "execution_count": 40,
     "metadata": {},
     "output_type": "execute_result"
    }
   ],
   "source": [
    "model.fit(x_train,y_train)"
   ]
  },
  {
   "cell_type": "markdown",
   "id": "df755733",
   "metadata": {},
   "source": [
    "prediction using model"
   ]
  },
  {
   "cell_type": "code",
   "execution_count": 41,
   "id": "eb5d47b4",
   "metadata": {},
   "outputs": [],
   "source": [
    "prediction=model.predict(x_test)"
   ]
  },
  {
   "cell_type": "code",
   "execution_count": 42,
   "id": "8b542b27",
   "metadata": {},
   "outputs": [],
   "source": [
    "model_prediction=pd.DataFrame({'Actual':y_test,'Predicted_value':prediction})"
   ]
  },
  {
   "cell_type": "code",
   "execution_count": 43,
   "id": "ab6d3661",
   "metadata": {},
   "outputs": [
    {
     "data": {
      "text/html": [
       "<div>\n",
       "<style scoped>\n",
       "    .dataframe tbody tr th:only-of-type {\n",
       "        vertical-align: middle;\n",
       "    }\n",
       "\n",
       "    .dataframe tbody tr th {\n",
       "        vertical-align: top;\n",
       "    }\n",
       "\n",
       "    .dataframe thead th {\n",
       "        text-align: right;\n",
       "    }\n",
       "</style>\n",
       "<table border=\"1\" class=\"dataframe\">\n",
       "  <thead>\n",
       "    <tr style=\"text-align: right;\">\n",
       "      <th></th>\n",
       "      <th>Actual</th>\n",
       "      <th>Predicted_value</th>\n",
       "    </tr>\n",
       "  </thead>\n",
       "  <tbody>\n",
       "    <tr>\n",
       "      <th>74297</th>\n",
       "      <td>31977.27</td>\n",
       "      <td>-6523.624275</td>\n",
       "    </tr>\n",
       "    <tr>\n",
       "      <th>69241</th>\n",
       "      <td>1518510.36</td>\n",
       "      <td>613435.526052</td>\n",
       "    </tr>\n",
       "    <tr>\n",
       "      <th>27612</th>\n",
       "      <td>100031.46</td>\n",
       "      <td>-105984.860630</td>\n",
       "    </tr>\n",
       "    <tr>\n",
       "      <th>46748</th>\n",
       "      <td>207442.29</td>\n",
       "      <td>209260.483203</td>\n",
       "    </tr>\n",
       "    <tr>\n",
       "      <th>99536</th>\n",
       "      <td>192683.55</td>\n",
       "      <td>587122.208426</td>\n",
       "    </tr>\n",
       "    <tr>\n",
       "      <th>42714</th>\n",
       "      <td>182024.46</td>\n",
       "      <td>95562.733554</td>\n",
       "    </tr>\n",
       "    <tr>\n",
       "      <th>73315</th>\n",
       "      <td>30337.41</td>\n",
       "      <td>69004.911871</td>\n",
       "    </tr>\n",
       "    <tr>\n",
       "      <th>34605</th>\n",
       "      <td>127089.15</td>\n",
       "      <td>95588.193117</td>\n",
       "    </tr>\n",
       "    <tr>\n",
       "      <th>7519</th>\n",
       "      <td>58215.03</td>\n",
       "      <td>-21251.009643</td>\n",
       "    </tr>\n",
       "    <tr>\n",
       "      <th>35635</th>\n",
       "      <td>133648.59</td>\n",
       "      <td>105038.012015</td>\n",
       "    </tr>\n",
       "  </tbody>\n",
       "</table>\n",
       "</div>"
      ],
      "text/plain": [
       "           Actual  Predicted_value\n",
       "74297    31977.27     -6523.624275\n",
       "69241  1518510.36    613435.526052\n",
       "27612   100031.46   -105984.860630\n",
       "46748   207442.29    209260.483203\n",
       "99536   192683.55    587122.208426\n",
       "42714   182024.46     95562.733554\n",
       "73315    30337.41     69004.911871\n",
       "34605   127089.15     95588.193117\n",
       "7519     58215.03    -21251.009643\n",
       "35635   133648.59    105038.012015"
      ]
     },
     "execution_count": 43,
     "metadata": {},
     "output_type": "execute_result"
    }
   ],
   "source": [
    "model_prediction.head(10)"
   ]
  },
  {
   "cell_type": "markdown",
   "id": "12118dd0",
   "metadata": {},
   "source": [
    "Our model does not give good predictions."
   ]
  }
 ],
 "metadata": {
  "kernelspec": {
   "display_name": "Python 3 (ipykernel)",
   "language": "python",
   "name": "python3"
  },
  "language_info": {
   "codemirror_mode": {
    "name": "ipython",
    "version": 3
   },
   "file_extension": ".py",
   "mimetype": "text/x-python",
   "name": "python",
   "nbconvert_exporter": "python",
   "pygments_lexer": "ipython3",
   "version": "3.11.5"
  }
 },
 "nbformat": 4,
 "nbformat_minor": 5
}
